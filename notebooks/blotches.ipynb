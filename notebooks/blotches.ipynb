{
 "cells": [
  {
   "cell_type": "code",
   "execution_count": 11,
   "metadata": {},
   "outputs": [],
   "source": [
    "from p4tools import io, markings"
   ]
  },
  {
   "cell_type": "code",
   "execution_count": 12,
   "metadata": {},
   "outputs": [],
   "source": [
    "blotches = io.get_blotch_catalog()"
   ]
  },
  {
   "cell_type": "code",
   "execution_count": 13,
   "metadata": {},
   "outputs": [],
   "source": [
    "# squeeze() forces the query to return a pd.Series (1D) vs a pd.DataFrame (2D)\n",
    "blotch = blotches.query('marking_id == \"B015676\"').squeeze()"
   ]
  },
  {
   "cell_type": "code",
   "execution_count": 14,
   "metadata": {},
   "outputs": [
    {
     "data": {
      "text/plain": [
       "marking_id                        B015676\n",
       "angle                               11.42\n",
       "tile_id                        APF0000vj8\n",
       "image_x                            243.17\n",
       "image_y                           17651.3\n",
       "n_votes                                 3\n",
       "obsid                     ESP_021903_0930\n",
       "radius_1                               10\n",
       "radius_2                               10\n",
       "vote_ratio                              1\n",
       "x                                  243.17\n",
       "y                                  115.33\n",
       "x_angle                              0.93\n",
       "y_angle                               0.2\n",
       "l_s                               264.186\n",
       "map_scale                            0.25\n",
       "north_azimuth                     158.675\n",
       "BodyFixedCoordinateX             -108.365\n",
       "BodyFixedCoordinateY              139.581\n",
       "BodyFixedCoordinateZ             -3377.61\n",
       "PlanetocentricLatitude           -87.0052\n",
       "PlanetographicLatitude           -87.0402\n",
       "Longitude                         127.824\n",
       "Name: 71065, dtype: object"
      ]
     },
     "execution_count": 14,
     "metadata": {},
     "output_type": "execute_result"
    }
   ],
   "source": [
    "blotch"
   ]
  },
  {
   "cell_type": "code",
   "execution_count": 15,
   "metadata": {},
   "outputs": [],
   "source": [
    "%matplotlib widget"
   ]
  },
  {
   "cell_type": "code",
   "execution_count": 16,
   "metadata": {},
   "outputs": [],
   "source": [
    "m = markings.Blotch(blotch, with_center=False)"
   ]
  },
  {
   "cell_type": "code",
   "execution_count": 17,
   "metadata": {},
   "outputs": [
    {
     "data": {
      "application/vnd.jupyter.widget-view+json": {
       "model_id": "3a4babce1cc14b8eba7b7c71a5ea7f87",
       "version_major": 2,
       "version_minor": 0
      },
      "text/plain": [
       "FigureCanvasNbAgg()"
      ]
     },
     "metadata": {},
     "output_type": "display_data"
    }
   ],
   "source": [
    "m.plot()"
   ]
  },
  {
   "cell_type": "code",
   "execution_count": 22,
   "metadata": {},
   "outputs": [],
   "source": [
    "tid = 'APF0000vj8'"
   ]
  },
  {
   "cell_type": "code",
   "execution_count": 25,
   "metadata": {},
   "outputs": [],
   "source": [
    "from p4tools import plotting"
   ]
  },
  {
   "cell_type": "code",
   "execution_count": 24,
   "metadata": {},
   "outputs": [
    {
     "data": {
      "application/vnd.jupyter.widget-view+json": {
       "model_id": "c329b36df91d4bb98f6199e08b1e69c2",
       "version_major": 2,
       "version_minor": 0
      },
      "text/plain": [
       "FigureCanvasNbAgg()"
      ]
     },
     "metadata": {},
     "output_type": "display_data"
    }
   ],
   "source": [
    "plotting.plot_blotches_for_tile(tid)"
   ]
  },
  {
   "cell_type": "code",
   "execution_count": null,
   "metadata": {},
   "outputs": [],
   "source": []
  }
 ],
 "metadata": {
  "kernelspec": {
   "display_name": "Python [conda env:py37] *",
   "language": "python",
   "name": "conda-env-py37-py"
  },
  "language_info": {
   "codemirror_mode": {
    "name": "ipython",
    "version": 3
   },
   "file_extension": ".py",
   "mimetype": "text/x-python",
   "name": "python",
   "nbconvert_exporter": "python",
   "pygments_lexer": "ipython3",
   "version": "3.7.3"
  }
 },
 "nbformat": 4,
 "nbformat_minor": 2
}
