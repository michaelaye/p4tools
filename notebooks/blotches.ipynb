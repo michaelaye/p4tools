{
 "cells": [
  {
   "cell_type": "code",
   "execution_count": 1,
   "metadata": {},
   "outputs": [],
   "source": [
    "import intake"
   ]
  },
  {
   "cell_type": "code",
   "execution_count": 2,
   "metadata": {},
   "outputs": [
    {
     "data": {
      "text/plain": [
       "['planet4']"
      ]
     },
     "execution_count": 2,
     "metadata": {},
     "output_type": "execute_result"
    }
   ],
   "source": [
    "list(intake.cat)"
   ]
  },
  {
   "cell_type": "code",
   "execution_count": 3,
   "metadata": {},
   "outputs": [
    {
     "data": {
      "text/plain": [
       "['fans',\n",
       " 'blotches',\n",
       " 'tile_coordinates',\n",
       " 'metadata',\n",
       " 'region_names',\n",
       " 'tile_urls']"
      ]
     },
     "execution_count": 3,
     "metadata": {},
     "output_type": "execute_result"
    }
   ],
   "source": [
    "list(intake.cat.planet4)"
   ]
  },
  {
   "cell_type": "code",
   "execution_count": 4,
   "metadata": {},
   "outputs": [],
   "source": [
    "blotches = intake.cat.planet4.blotches.read()"
   ]
  },
  {
   "cell_type": "code",
   "execution_count": 6,
   "metadata": {},
   "outputs": [],
   "source": [
    "# squeeze() forces the query to return a pd.Series (1D) vs a pd.DataFrame (2D)\n",
    "blotch = blotches.query('marking_id == \"B015676\"').squeeze()"
   ]
  },
  {
   "cell_type": "code",
   "execution_count": 7,
   "metadata": {},
   "outputs": [
    {
     "data": {
      "text/plain": [
       "marking_id                        B015676\n",
       "angle                               11.42\n",
       "tile_id                        APF0000vj8\n",
       "image_x                            243.17\n",
       "image_y                           17651.3\n",
       "n_votes                                 3\n",
       "obsid                     ESP_021903_0930\n",
       "radius_1                               10\n",
       "radius_2                               10\n",
       "vote_ratio                              1\n",
       "x                                  243.17\n",
       "y                                  115.33\n",
       "x_angle                              0.93\n",
       "y_angle                               0.2\n",
       "l_s                               264.186\n",
       "map_scale                            0.25\n",
       "north_azimuth                     158.675\n",
       "BodyFixedCoordinateX             -108.365\n",
       "BodyFixedCoordinateY              139.581\n",
       "BodyFixedCoordinateZ             -3377.61\n",
       "PlanetocentricLatitude           -87.0052\n",
       "PlanetographicLatitude           -87.0402\n",
       "Longitude                         127.824\n",
       "Name: 71065, dtype: object"
      ]
     },
     "execution_count": 7,
     "metadata": {},
     "output_type": "execute_result"
    }
   ],
   "source": [
    "blotch"
   ]
  },
  {
   "cell_type": "code",
   "execution_count": 8,
   "metadata": {},
   "outputs": [],
   "source": [
    "import p4tools\n",
    "from p4tools import markings"
   ]
  },
  {
   "cell_type": "code",
   "execution_count": 9,
   "metadata": {},
   "outputs": [],
   "source": [
    "%matplotlib widget"
   ]
  },
  {
   "cell_type": "code",
   "execution_count": 10,
   "metadata": {},
   "outputs": [],
   "source": [
    "m = markings.Blotch(blotch, with_center=False)"
   ]
  },
  {
   "cell_type": "code",
   "execution_count": 11,
   "metadata": {},
   "outputs": [
    {
     "data": {
      "application/vnd.jupyter.widget-view+json": {
       "model_id": "1df5166c280245fb87b887abb04edc41",
       "version_major": 2,
       "version_minor": 0
      },
      "text/plain": [
       "FigureCanvasNbAgg()"
      ]
     },
     "metadata": {},
     "output_type": "display_data"
    }
   ],
   "source": [
    "m.plot()"
   ]
  },
  {
   "cell_type": "code",
   "execution_count": null,
   "metadata": {},
   "outputs": [],
   "source": []
  }
 ],
 "metadata": {
  "kernelspec": {
   "display_name": "Python [conda env:py37] *",
   "language": "python",
   "name": "conda-env-py37-py"
  },
  "language_info": {
   "codemirror_mode": {
    "name": "ipython",
    "version": 3
   },
   "file_extension": ".py",
   "mimetype": "text/x-python",
   "name": "python",
   "nbconvert_exporter": "python",
   "pygments_lexer": "ipython3",
   "version": "3.7.3"
  }
 },
 "nbformat": 4,
 "nbformat_minor": 2
}
