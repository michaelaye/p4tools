{
 "cells": [
  {
   "cell_type": "markdown",
   "id": "69110268-901e-4eea-a2c6-e618e80ba5f2",
   "metadata": {},
   "source": [
    "# p4tools\n",
    "> Tools to work with Planet Four data."
   ]
  },
  {
   "cell_type": "markdown",
   "id": "42eea6fd-e59c-4a46-8775-035f84c20da7",
   "metadata": {},
   "source": [
    "## Credits\n",
    "\n",
    "### Developer and Maintainer\n",
    "\n",
    "* K.-Michael Aye <kmichael.aye@gmail.com>\n",
    "\n",
    "### Contributors\n",
    "\n",
    "* Some ideas and concepts from Meg Schwamb\n"
   ]
  },
  {
   "cell_type": "code",
   "execution_count": null,
   "id": "983fa5ec-917f-43cb-9e78-95c0f1b29aea",
   "metadata": {},
   "outputs": [],
   "source": []
  }
 ],
 "metadata": {
  "kernelspec": {
   "display_name": "Python 3 (ipykernel)",
   "language": "python",
   "name": "python3"
  }
 },
 "nbformat": 4,
 "nbformat_minor": 5
}
