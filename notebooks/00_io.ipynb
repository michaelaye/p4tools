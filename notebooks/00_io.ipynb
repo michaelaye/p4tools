{
 "cells": [
  {
   "cell_type": "code",
   "execution_count": null,
   "metadata": {},
   "outputs": [],
   "source": [
    "#| default_exp io"
   ]
  },
  {
   "cell_type": "markdown",
   "metadata": {},
   "source": [
    "# IO module\n",
    "> This module takes care of receiving the data catalogs."
   ]
  },
  {
   "cell_type": "code",
   "execution_count": null,
   "metadata": {},
   "outputs": [],
   "source": [
    "#| export\n",
    "from pathlib import Path\n",
    "from urllib.error import URLError\n",
    "\n",
    "import matplotlib.image as mplimg\n",
    "import pooch\n",
    "from yarl import URL\n",
    "\n",
    "import pandas as pd"
   ]
  },
  {
   "cell_type": "code",
   "execution_count": null,
   "metadata": {},
   "outputs": [],
   "source": [
    "#| export\n",
    "logger = pooch.get_logger()\n",
    "logger.setLevel(\"WARNING\")"
   ]
  },
  {
   "cell_type": "code",
   "execution_count": null,
   "metadata": {},
   "outputs": [],
   "source": [
    "#| export\n",
    "base_url = URL('https://zenodo.org/record/8102805/files/')\n",
    "\n",
    "urls = {\n",
    "    'fans': 'P4_catalog_v1.1_L1C_cut_0.5_fan.csv.zip',\n",
    "    'blotches': 'P4_catalog_v1.1_L1C_cut_0.5_blotch.csv.zip',\n",
    "    'metadata': 'P4_catalog_v1.1_metadata.csv.zip',\n",
    "    'tile_coords': 'P4_catalog_v1.1_tile_coords_final.csv.zip',\n",
    "    'raw_data': 'P4_catalog_v1.0_raw_classifications.hdf.zip',\n",
    "    'intermediate': 'P4_catalog_v1.0_pipeline_products.zip',\n",
    "    'region_names': 'region_names.zip',\n",
    "    'tile_urls': 'tile_urls.csv.zip'\n",
    "}"
   ]
  },
  {
   "cell_type": "code",
   "execution_count": null,
   "metadata": {},
   "outputs": [],
   "source": [
    "#| export\n",
    "\n",
    "hashes = {\n",
    "    'fans': 'md5:71ff51ff79d6e975f704f19b1996d8ea',\n",
    "    'blotches': 'md5:f4d0c101f65abbaf34e092620133d56e',\n",
    "    'metadata': 'md5:c0dc46e0fc3d259c30afaec412074eae',\n",
    "    'tile_coords': 'md5:6b9a917a6997f1aa01cfef4322cabd81',\n",
    "    'raw_data': 'md5:39a8909590fe9f816454db93f0027d2c',\n",
    "    'intermediate': 'md5:6544bf0c7851eedd4783859c0adc42d7',\n",
    "    'region_names': 'md5:9101c7a0f8e248c9ffe9c07869da5635',\n",
    "    'tile_urls': 'md5:5717c8379d453cf4b11a5f5775f5fb6e'\n",
    "}"
   ]
  },
  {
   "cell_type": "code",
   "execution_count": null,
   "metadata": {},
   "outputs": [],
   "source": [
    "#| export\n",
    "\n",
    "def _get_hash(key):\n",
    "    url = URL(urls[key])\n",
    "    path = pooch.retrieve(str(url), progressbar=True, known_hash=None)\n",
    "    return pooch.file_hash(path)\n",
    "\n",
    "def fetch_zipped_file(key):\n",
    "    url = base_url / urls[key]\n",
    "    hash = hashes[key]\n",
    "    fname = Path(url.name).stem\n",
    "    fpath = pooch.retrieve(str(url), \n",
    "                           path=pooch.os_cache('p4tools'), \n",
    "                           known_hash=hash, \n",
    "                           processor=pooch.Unzip(),\n",
    "                           progressbar=True)\n",
    "    return fpath[0]"
   ]
  },
  {
   "cell_type": "code",
   "execution_count": null,
   "metadata": {},
   "outputs": [],
   "source": [
    "#| export\n",
    "def get_blotch_catalog() -> pd.DataFrame:\n",
    "    return pd.read_csv(fetch_zipped_file('blotches'))\n",
    "\n",
    "\n",
    "def get_fan_catalog() -> pd.DataFrame:\n",
    "    return pd.read_csv(fetch_zipped_file('fans'))\n",
    "\n",
    "\n",
    "def get_meta_data() -> pd.DataFrame:\n",
    "    return pd.read_csv(fetch_zipped_file('metadata'))\n",
    "\n",
    "\n",
    "def get_tile_coords() -> pd.DataFrame:\n",
    "    return pd.read_csv(fetch_zipped_file('tile_coords'))\n",
    "\n",
    "\n",
    "def get_region_names() -> pd.DataFrame:\n",
    "    return pd.read_csv(fetch_zipped_file('region_names'))\n",
    "\n",
    "def get_tile_urls() -> pd.DataFrame:\n",
    "    return pd.read_csv(fetch_zipped_file('tile_urls'))"
   ]
  },
  {
   "cell_type": "code",
   "execution_count": null,
   "metadata": {},
   "outputs": [
    {
     "data": {
      "text/html": [
       "<div>\n",
       "<style scoped>\n",
       "    .dataframe tbody tr th:only-of-type {\n",
       "        vertical-align: middle;\n",
       "    }\n",
       "\n",
       "    .dataframe tbody tr th {\n",
       "        vertical-align: top;\n",
       "    }\n",
       "\n",
       "    .dataframe thead th {\n",
       "        text-align: right;\n",
       "    }\n",
       "</style>\n",
       "<table border=\"1\" class=\"dataframe\">\n",
       "  <thead>\n",
       "    <tr style=\"text-align: right;\">\n",
       "      <th></th>\n",
       "      <th>obsid</th>\n",
       "      <th>lat_IND</th>\n",
       "      <th>lon_IND</th>\n",
       "      <th>roi_name</th>\n",
       "      <th>minimal_distance</th>\n",
       "      <th>lat_WORD</th>\n",
       "      <th>lon_WORD</th>\n",
       "      <th>time</th>\n",
       "      <th>MY</th>\n",
       "    </tr>\n",
       "  </thead>\n",
       "  <tbody>\n",
       "    <tr>\n",
       "      <th>0</th>\n",
       "      <td>ESP_012079_0945</td>\n",
       "      <td>-85.4074</td>\n",
       "      <td>103.970</td>\n",
       "      <td>Macclesfield</td>\n",
       "      <td>0.944588</td>\n",
       "      <td>-85.401</td>\n",
       "      <td>103.901</td>\n",
       "      <td>2009-02-22 16:32:19</td>\n",
       "      <td>29</td>\n",
       "    </tr>\n",
       "    <tr>\n",
       "      <th>1</th>\n",
       "      <td>ESP_021494_0945</td>\n",
       "      <td>-85.4041</td>\n",
       "      <td>103.943</td>\n",
       "      <td>Macclesfield</td>\n",
       "      <td>0.511133</td>\n",
       "      <td>-85.401</td>\n",
       "      <td>103.901</td>\n",
       "      <td>2011-02-26 07:30:27</td>\n",
       "      <td>30</td>\n",
       "    </tr>\n",
       "    <tr>\n",
       "      <th>2</th>\n",
       "      <td>ESP_011407_0945</td>\n",
       "      <td>-85.4065</td>\n",
       "      <td>103.983</td>\n",
       "      <td>Macclesfield</td>\n",
       "      <td>0.957066</td>\n",
       "      <td>-85.401</td>\n",
       "      <td>103.901</td>\n",
       "      <td>2009-01-01 07:49:15</td>\n",
       "      <td>29</td>\n",
       "    </tr>\n",
       "    <tr>\n",
       "      <th>3</th>\n",
       "      <td>ESP_020782_0945</td>\n",
       "      <td>-85.4071</td>\n",
       "      <td>103.967</td>\n",
       "      <td>Macclesfield</td>\n",
       "      <td>0.901696</td>\n",
       "      <td>-85.401</td>\n",
       "      <td>103.901</td>\n",
       "      <td>2011-01-01 19:57:51</td>\n",
       "      <td>30</td>\n",
       "    </tr>\n",
       "    <tr>\n",
       "      <th>4</th>\n",
       "      <td>ESP_020716_0945</td>\n",
       "      <td>-85.4086</td>\n",
       "      <td>103.979</td>\n",
       "      <td>Macclesfield</td>\n",
       "      <td>1.098928</td>\n",
       "      <td>-85.401</td>\n",
       "      <td>103.901</td>\n",
       "      <td>2010-12-27 16:32:24</td>\n",
       "      <td>30</td>\n",
       "    </tr>\n",
       "    <tr>\n",
       "      <th>...</th>\n",
       "      <td>...</td>\n",
       "      <td>...</td>\n",
       "      <td>...</td>\n",
       "      <td>...</td>\n",
       "      <td>...</td>\n",
       "      <td>...</td>\n",
       "      <td>...</td>\n",
       "      <td>...</td>\n",
       "      <td>...</td>\n",
       "    </tr>\n",
       "    <tr>\n",
       "      <th>449</th>\n",
       "      <td>ESP_029762_0940</td>\n",
       "      <td>-85.7567</td>\n",
       "      <td>106.026</td>\n",
       "      <td>Manhattan2</td>\n",
       "      <td>0.782410</td>\n",
       "      <td>-85.751</td>\n",
       "      <td>105.971</td>\n",
       "      <td>2012-12-01 13:16:26</td>\n",
       "      <td>31</td>\n",
       "    </tr>\n",
       "    <tr>\n",
       "      <th>450</th>\n",
       "      <td>ESP_037977_0940</td>\n",
       "      <td>-85.6793</td>\n",
       "      <td>105.614</td>\n",
       "      <td>Manhattan2</td>\n",
       "      <td>8.544184</td>\n",
       "      <td>-85.751</td>\n",
       "      <td>105.971</td>\n",
       "      <td>2014-09-02 16:34:56</td>\n",
       "      <td>32</td>\n",
       "    </tr>\n",
       "    <tr>\n",
       "      <th>451</th>\n",
       "      <td>ESP_037976_0940</td>\n",
       "      <td>-85.6694</td>\n",
       "      <td>105.903</td>\n",
       "      <td>Manhattan2</td>\n",
       "      <td>9.131402</td>\n",
       "      <td>-85.751</td>\n",
       "      <td>105.971</td>\n",
       "      <td>2014-09-02 14:43:05</td>\n",
       "      <td>32</td>\n",
       "    </tr>\n",
       "    <tr>\n",
       "      <th>452</th>\n",
       "      <td>ESP_040311_0940</td>\n",
       "      <td>-85.7806</td>\n",
       "      <td>106.025</td>\n",
       "      <td>Manhattan2</td>\n",
       "      <td>3.335817</td>\n",
       "      <td>-85.751</td>\n",
       "      <td>105.971</td>\n",
       "      <td>2015-03-03 12:35:10</td>\n",
       "      <td>32</td>\n",
       "    </tr>\n",
       "    <tr>\n",
       "      <th>453</th>\n",
       "      <td>ESP_040193_0940</td>\n",
       "      <td>-85.7860</td>\n",
       "      <td>106.143</td>\n",
       "      <td>Manhattan2</td>\n",
       "      <td>4.158145</td>\n",
       "      <td>-85.751</td>\n",
       "      <td>105.971</td>\n",
       "      <td>2015-02-22 07:54:37</td>\n",
       "      <td>32</td>\n",
       "    </tr>\n",
       "  </tbody>\n",
       "</table>\n",
       "<p>454 rows × 9 columns</p>\n",
       "</div>"
      ],
      "text/plain": [
       "               obsid  lat_IND  lon_IND      roi_name  minimal_distance  \\\n",
       "0    ESP_012079_0945 -85.4074  103.970  Macclesfield          0.944588   \n",
       "1    ESP_021494_0945 -85.4041  103.943  Macclesfield          0.511133   \n",
       "2    ESP_011407_0945 -85.4065  103.983  Macclesfield          0.957066   \n",
       "3    ESP_020782_0945 -85.4071  103.967  Macclesfield          0.901696   \n",
       "4    ESP_020716_0945 -85.4086  103.979  Macclesfield          1.098928   \n",
       "..               ...      ...      ...           ...               ...   \n",
       "449  ESP_029762_0940 -85.7567  106.026    Manhattan2          0.782410   \n",
       "450  ESP_037977_0940 -85.6793  105.614    Manhattan2          8.544184   \n",
       "451  ESP_037976_0940 -85.6694  105.903    Manhattan2          9.131402   \n",
       "452  ESP_040311_0940 -85.7806  106.025    Manhattan2          3.335817   \n",
       "453  ESP_040193_0940 -85.7860  106.143    Manhattan2          4.158145   \n",
       "\n",
       "     lat_WORD  lon_WORD                 time  MY  \n",
       "0     -85.401   103.901  2009-02-22 16:32:19  29  \n",
       "1     -85.401   103.901  2011-02-26 07:30:27  30  \n",
       "2     -85.401   103.901  2009-01-01 07:49:15  29  \n",
       "3     -85.401   103.901  2011-01-01 19:57:51  30  \n",
       "4     -85.401   103.901  2010-12-27 16:32:24  30  \n",
       "..        ...       ...                  ...  ..  \n",
       "449   -85.751   105.971  2012-12-01 13:16:26  31  \n",
       "450   -85.751   105.971  2014-09-02 16:34:56  32  \n",
       "451   -85.751   105.971  2014-09-02 14:43:05  32  \n",
       "452   -85.751   105.971  2015-03-03 12:35:10  32  \n",
       "453   -85.751   105.971  2015-02-22 07:54:37  32  \n",
       "\n",
       "[454 rows x 9 columns]"
      ]
     },
     "execution_count": null,
     "metadata": {},
     "output_type": "execute_result"
    }
   ],
   "source": [
    "get_region_names()"
   ]
  },
  {
   "cell_type": "code",
   "execution_count": null,
   "metadata": {},
   "outputs": [],
   "source": [
    "#| export\n",
    "def get_subframe(url):\n",
    "    targetpath = pooch.retrieve(url, path=pooch.os_cache('p4tools/tiles'), known_hash=None, progressbar=True)\n",
    "    im = mplimg.imread(targetpath)\n",
    "    return im"
   ]
  },
  {
   "cell_type": "code",
   "execution_count": null,
   "metadata": {},
   "outputs": [],
   "source": [
    "#| export\n",
    "def get_url_for_tile_id(tile_id):\n",
    "    return get_tile_urls().set_index('tile_id').squeeze().at[tile_id]"
   ]
  },
  {
   "cell_type": "code",
   "execution_count": null,
   "metadata": {},
   "outputs": [
    {
     "data": {
      "text/plain": [
       "'http://www.planetfour.org/subjects/standard/50e742b65e2ed2124000403a.jpg'"
      ]
     },
     "execution_count": null,
     "metadata": {},
     "output_type": "execute_result"
    }
   ],
   "source": [
    "get_url_for_tile_id('APF0000coq')"
   ]
  },
  {
   "cell_type": "code",
   "execution_count": null,
   "metadata": {},
   "outputs": [],
   "source": [
    "#| export\n",
    "def get_subframe_by_tile_id(tile_id):\n",
    "    url = get_url_for_tile_id(tile_id)\n",
    "    return get_subframe(url)"
   ]
  },
  {
   "cell_type": "code",
   "execution_count": null,
   "metadata": {},
   "outputs": [],
   "source": [
    "#| export\n",
    "def get_fans_for_tile(tile_id):\n",
    "    fans = get_fan_catalog()\n",
    "    return fans.query(\"tile_id == @tile_id\")"
   ]
  },
  {
   "cell_type": "code",
   "execution_count": null,
   "metadata": {},
   "outputs": [],
   "source": [
    "#| export\n",
    "def get_blotches_for_tile(tile_id):\n",
    "    blotches = get_blotch_catalog()\n",
    "    return blotches.query(\"tile_id == @tile_id\")"
   ]
  },
  {
   "cell_type": "code",
   "execution_count": null,
   "metadata": {},
   "outputs": [],
   "source": [
    "#| export\n",
    "def get_hirise_id_for_tile(tile_id):\n",
    "    try:\n",
    "        obsid = get_fan_catalog().query(\"tile_id == @tile_id\").obsid.iloc[0]\n",
    "    except:\n",
    "        obsid = get_blotch_catalog().query(\"tile_id == @tile_id\").obsid.iloc[0]\n",
    "    return obsid"
   ]
  },
  {
   "cell_type": "code",
   "execution_count": null,
   "metadata": {},
   "outputs": [],
   "source": []
  }
 ],
 "metadata": {
  "jupytext": {
   "split_at_heading": true
  },
  "kernelspec": {
   "display_name": "conda-env-py310-py",
   "language": "python",
   "name": "conda-env-py310-py"
  },
  "widgets": {
   "application/vnd.jupyter.widget-state+json": {
    "state": {},
    "version_major": 2,
    "version_minor": 0
   }
  }
 },
 "nbformat": 4,
 "nbformat_minor": 4
}
