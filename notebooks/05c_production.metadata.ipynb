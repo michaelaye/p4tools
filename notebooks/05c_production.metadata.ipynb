{
 "cells": [
  {
   "cell_type": "code",
   "execution_count": null,
   "metadata": {},
   "outputs": [],
   "source": [
    "#| default_exp production.metadata"
   ]
  },
  {
   "cell_type": "code",
   "execution_count": null,
   "metadata": {},
   "outputs": [],
   "source": [
    "# | export\n",
    "\n",
    "\n",
    "from p4tools.production import projection\n",
    "\n",
    "\n",
    "import logging\n",
    "from planetarypy.pds.apps import get_index\n",
    "from planetarypy.hirise import ProductPathfinder\n",
    "import pandas as pd"
   ]
  },
  {
   "cell_type": "code",
   "execution_count": null,
   "metadata": {},
   "outputs": [],
   "source": [
    "# | export\n",
    "\n",
    "logger = logging.getLogger(__name__)"
   ]
  },
  {
   "cell_type": "code",
   "execution_count": null,
   "metadata": {},
   "outputs": [],
   "source": [
    "class MetadataReader:\n",
    "\n",
    "    def __init__(self, obsid):\n",
    "        self.obsid = obsid\n",
    "        self.prodid = ProductPathfinder(obsid+\"_COLOR\")\n",
    "        if not self.labelpath.exists():\n",
    "            self.download_label()\n",
    "\n",
    "    def read_edr_index(self):\n",
    "        return get_index(\"mro.hirise\", \"edr\")\n",
    "\n",
    "    @property\n",
    "    def labelpath(self):\n",
    "        return self.prodid.local_label_path\n",
    "\n",
    "    def download_label(self):\n",
    "        self.prodid.download_label()\n",
    "\n",
    "    @property\n",
    "    def label(self):\n",
    "        return labels.HiRISE_Label(self.labelpath)\n",
    "\n",
    "    @property\n",
    "    def campt_out_path(self):\n",
    "        p4m = projection.P4Mosaic(self.obsid)\n",
    "        return p4m.mosaic_path.parent / f\"{self.obsid}_campt_out.csv\"\n",
    "\n",
    "    @property\n",
    "    def campt_out_df(self):\n",
    "        return pd.read_csv(self.campt_out_path)\n"
   ]
  },
  {
   "cell_type": "code",
   "execution_count": null,
   "metadata": {},
   "outputs": [],
   "source": [
    "# | export\n",
    "\n",
    "def get_north_azimuths_from_SPICE(obsids):\n",
    "    NAs = []\n",
    "    for obsid in obsids:\n",
    "        meta = MetadataReader(obsid)\n",
    "        NAs.append(meta.campt_out_df['NorthAzimuth'].median())\n",
    "    return pd.DataFrame(dict(OBSERVATION_ID=obsids, north_azimuth=NAs))"
   ]
  }
 ],
 "metadata": {
  "kernelspec": {
   "display_name": "planetary",
   "language": "python",
   "name": "python3"
  },
  "language_info": {
   "name": "python",
   "version": "3.9.19"
  }
 },
 "nbformat": 4,
 "nbformat_minor": 2
}
