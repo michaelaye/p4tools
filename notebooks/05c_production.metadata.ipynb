{
 "cells": [
  {
   "cell_type": "code",
   "execution_count": null,
   "metadata": {},
   "outputs": [],
   "source": [
    "#| default_exp production.metadata"
   ]
  },
  {
   "cell_type": "markdown",
   "metadata": {},
   "source": [
    "# production.metadata\n",
    "\n",
    "> This module includes the metadata calculations which are used to calculate the metadata of the "
   ]
  },
  {
   "cell_type": "code",
   "execution_count": null,
   "metadata": {},
   "outputs": [],
   "source": [
    "# | export\n",
    "\n",
    "import logging\n",
    "from planetarypy.pds.apps import get_index\n",
    "from planetarypy.hirise import ProductPathfinder\n",
    "import pandas as pd\n",
    "\n",
    "from p4tools.production.projection import P4Mosaic"
   ]
  },
  {
   "cell_type": "code",
   "execution_count": null,
   "metadata": {},
   "outputs": [],
   "source": [
    "# | export\n",
    "\n",
    "logger = logging.getLogger(__name__)"
   ]
  },
  {
   "cell_type": "code",
   "execution_count": null,
   "metadata": {},
   "outputs": [],
   "source": [
    "# | export\n",
    "\n",
    "class MetadataReader:\n",
    "    \"\"\"\n",
    "    A class to read and manage metadata for a given observation ID (obsid).\n",
    "    Parameters\n",
    "    ----------\n",
    "    obsid : str\n",
    "        The observation ID for which metadata is to be read and managed.\n",
    "    Attributes\n",
    "    ----------\n",
    "    obsid : str\n",
    "        The observation ID.\n",
    "    prodid : ProductPathfinder\n",
    "        An instance of ProductPathfinder initialized with the observation ID and \"_COLOR\" suffix.\n",
    "    labelpath : pathlib.Path\n",
    "        The local path to the label file.\n",
    "    label : labels.HiRISE_Label\n",
    "        An instance of HiRISE_Label initialized with the label path.\n",
    "    campt_out_path : pathlib.Path\n",
    "        The path to the campt output CSV file.\n",
    "    campt_out_df : pandas.DataFrame\n",
    "        A DataFrame containing the contents of the campt output CSV file.\n",
    "    Methods\n",
    "    -------\n",
    "    read_edr_index()\n",
    "        Reads the EDR index for the HiRISE instrument.\n",
    "    download_label()\n",
    "        Downloads the label file if it does not exist locally.\n",
    "    \"\"\"\n",
    "\n",
    "\n",
    "    def __init__(self, obsid):\n",
    "        self.obsid = obsid\n",
    "        self.prodid = ProductPathfinder(obsid+\"_COLOR\")\n",
    "        if not self.labelpath.exists():\n",
    "            self.download_label()\n",
    "\n",
    "    def read_edr_index(self):\n",
    "        \"\"\"Reads the EDR index for the HiRISE instrument\"\"\"\n",
    "        return get_index(\"mro.hirise\", \"edr\")\n",
    "\n",
    "    @property\n",
    "    def labelpath(self):\n",
    "        \"\"\"local path to the label file\"\"\"\n",
    "        return self.prodid.local_label_path\n",
    "\n",
    "    def download_label(self):\n",
    "        \"\"\"Downloads the label file if it does not exist locally\"\"\"\n",
    "        self.prodid.download_label()\n",
    "\n",
    "    @property\n",
    "    def label(self):\n",
    "        \"\"\"HiRISE_Label initialized with the label path\"\"\"\n",
    "        return labels.HiRISE_Label(self.labelpath)\n",
    "\n",
    "    @property\n",
    "    def campt_out_path(self):\n",
    "        \"\"\"The path to the campt output CSV file\"\"\"\n",
    "        p4m = P4Mosaic(self.obsid)\n",
    "        return p4m.mosaic_path.parent / f\"{self.obsid}_campt_out.csv\"\n",
    "\n",
    "    @property\n",
    "    def campt_out_df(self):\n",
    "        \"\"\"DataFrame containing the contents of the campt output CSV file\"\"\"\n",
    "        return pd.read_csv(self.campt_out_path)\n"
   ]
  },
  {
   "cell_type": "code",
   "execution_count": null,
   "metadata": {},
   "outputs": [],
   "source": [
    "# | export\n",
    "\n",
    "def get_north_azimuths_from_SPICE(obsids):\n",
    "    \"\"\"\n",
    "    Calculate the North Azimuth for a list of observation IDs using SPICE metadata.\n",
    "    Parameters\n",
    "    ----------\n",
    "    obsids : list of str\n",
    "        List of observation IDs for which to calculate the North Azimuth direction.\n",
    "    Returns\n",
    "    -------\n",
    "    pandas.DataFrame\n",
    "        DataFrame containing the observation IDs and their corresponding North Azimuth values.\n",
    "        The DataFrame has two columns: 'OBSERVATION_ID' and 'north_azimuth'.\n",
    "    \"\"\"\n",
    "    NAs = []\n",
    "    for obsid in obsids:\n",
    "        meta = MetadataReader(obsid)\n",
    "        NAs.append(meta.campt_out_df['NorthAzimuth'].median())\n",
    "    return pd.DataFrame(dict(OBSERVATION_ID=obsids, north_azimuth=NAs))"
   ]
  }
 ],
 "metadata": {
  "kernelspec": {
   "display_name": "planetary",
   "language": "python",
   "name": "python3"
  },
  "language_info": {
   "name": "python",
   "version": "3.9.-1"
  }
 },
 "nbformat": 4,
 "nbformat_minor": 2
}
