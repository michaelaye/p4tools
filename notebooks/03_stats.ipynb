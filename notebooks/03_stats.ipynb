{
 "cells": [
  {
   "cell_type": "code",
   "execution_count": null,
   "metadata": {},
   "outputs": [],
   "source": [
    "#| default_exp stats"
   ]
  },
  {
   "cell_type": "code",
   "execution_count": 2,
   "metadata": {},
   "outputs": [],
   "source": [
    "#| export\n",
    "import pandas as pd\n",
    "\n",
    "\n",
    "mars_years = {\n",
    "    28: \"2006-01-23\",\n",
    "    29: \"2007-12-10\",\n",
    "    30: \"2009-10-27\",\n",
    "    31: \"2011-09-15\",\n",
    "    32: \"2013-08-01\",\n",
    "    33: \"2015-06-19\",\n",
    "    34: \"2017-05-05\",\n",
    "    35: \"2019-03-24\",\n",
    "    36: \"2021-02-07\",\n",
    "    37: \"2022-12-26\",\n",
    "    38: \"2024-11-24\",\n",
    "    39: \"2026-09-30\",\n",
    "    40: \"2028-08-17\",\n",
    "}"
   ]
  },
  {
   "cell_type": "code",
   "execution_count": 3,
   "metadata": {},
   "outputs": [],
   "source": [
    "#| export \n",
    "def define_martian_year(df, time_col_name):\n",
    "    \"\"\"This Function Modifies the Dataframe it is given. And adds a Column named \"MY\",\n",
    "        which signifies the Mars Year a Datapoint was taken.\n",
    "\n",
    "    Parameters\n",
    "    ----------\n",
    "    df : pandas.DataFrame\n",
    "        A Dataframe for which we wish to calculate the Mars Years\n",
    "    time_col_name : str\n",
    "        The Name of the column which has the Dates \n",
    "        which to correspond to Mars Years.\n",
    "    \"\"\"\n",
    "    mars_timestamps = {k: pd.to_datetime(v) for k, v in mars_years.items()}\n",
    "    df[\"MY\"] = 0\n",
    "    for yr, t in mars_timestamps.items():\n",
    "        df.loc[df[time_col_name] > t, \"MY\"] = yr\n"
   ]
  },
  {
   "cell_type": "code",
   "execution_count": null,
   "metadata": {},
   "outputs": [],
   "source": []
  }
 ],
 "metadata": {
  "kernelspec": {
   "display_name": "planetary",
   "language": "python",
   "name": "python3"
  },
  "language_info": {
   "codemirror_mode": {
    "name": "ipython",
    "version": 3
   },
   "file_extension": ".py",
   "mimetype": "text/x-python",
   "name": "python",
   "nbconvert_exporter": "python",
   "pygments_lexer": "ipython3",
   "version": "3.9.19"
  }
 },
 "nbformat": 4,
 "nbformat_minor": 2
}
