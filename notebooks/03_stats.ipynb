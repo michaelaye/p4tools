{
 "cells": [
  {
   "cell_type": "code",
   "execution_count": null,
   "metadata": {},
   "outputs": [],
   "source": [
    "#| default_exp stats"
   ]
  },
  {
   "cell_type": "code",
   "execution_count": null,
   "metadata": {},
   "outputs": [],
   "source": [
    "#| export\n",
    "import pandas as pd\n",
    "\n",
    "\n",
    "mars_years = {\n",
    "    28: \"2006-01-23\",\n",
    "    29: \"2007-12-10\",\n",
    "    30: \"2009-10-27\",\n",
    "    31: \"2011-09-15\",\n",
    "    32: \"2013-08-01\",\n",
    "    33: \"2015-06-19\",\n",
    "    34: \"2017-05-05\",\n",
    "    35: \"2019-03-24\",\n",
    "    36: \"2021-02-07\",\n",
    "    37: \"2022-12-26\",\n",
    "    38: \"2024-11-24\",\n",
    "    39: \"2026-09-30\",\n",
    "    40: \"2028-08-17\",\n",
    "}"
   ]
  },
  {
   "cell_type": "code",
   "execution_count": null,
   "metadata": {},
   "outputs": [],
   "source": [
    "#| export \n",
    "def define_martian_year(df, time_col_name):\n",
    "    mars_timestamps = {k: pd.to_datetime(v) for k, v in mars_years.items()}\n",
    "    df[\"MY\"] = 0\n",
    "    for yr, t in mars_timestamps.items():\n",
    "        df.loc[df[time_col_name] > t, \"MY\"] = yr\n"
   ]
  }
 ],
 "metadata": {
  "language_info": {
   "name": "python"
  }
 },
 "nbformat": 4,
 "nbformat_minor": 2
}
